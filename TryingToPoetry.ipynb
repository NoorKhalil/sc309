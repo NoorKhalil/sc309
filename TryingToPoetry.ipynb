{
 "cells": [
  {
   "cell_type": "code",
   "execution_count": 1,
   "metadata": {},
   "outputs": [
    {
     "name": "stdout",
     "output_type": "stream",
     "text": [
      "Creating virtualenv poetrytest-package-29gmY_H0-py3.7 in C:\\Users\\Noor\\AppData\\Local\\pypoetry\\Cache\\virtualenvs\n",
      "Using version ^1.17.4 for numpy\n",
      "\n",
      "Updating dependencies\n",
      "Resolving dependencies...\n",
      "\n",
      "Writing lock file\n",
      "\n",
      "\n",
      "Package operations: 14 installs, 0 updates, 0 removals\n",
      "\n",
      "  - Installing more-itertools (8.0.2)\n",
      "  - Installing zipp (0.6.0)\n",
      "  - Installing importlib-metadata (1.3.0)\n",
      "  - Installing pyparsing (2.4.5)\n",
      "  - Installing six (1.13.0)\n",
      "  - Installing atomicwrites (1.3.0)\n",
      "  - Installing attrs (19.3.0)\n",
      "  - Installing colorama (0.4.3)\n",
      "  - Installing packaging (19.2)\n",
      "  - Installing pluggy (0.13.1)\n",
      "  - Installing py (1.8.0)\n",
      "  - Installing wcwidth (0.1.7)\n",
      "  - Installing numpy (1.17.4)\n",
      "  - Installing pytest (5.3.1)\n",
      "Using version ^1.4.4 for scanpy\n",
      "\n",
      "Updating dependencies\n",
      "Resolving dependencies...\n",
      "\n",
      "Writing lock file\n",
      "\n",
      "\n",
      "Package operations: 24 installs, 0 updates, 0 removals\n",
      "\n",
      "  - Installing cycler (0.10.0)\n",
      "  - Installing joblib (0.14.1)\n",
      "  - Installing kiwisolver (1.1.0)\n",
      "  - Installing llvmlite (0.30.0)\n",
      "  - Installing python-dateutil (2.8.1)\n",
      "  - Installing pytz (2019.3)\n",
      "  - Installing scipy (1.3.3)\n",
      "  - Installing decorator (4.4.1)\n",
      "  - Installing h5py (2.10.0)\n",
      "  - Installing matplotlib (3.0.3)\n",
      "  - Installing natsort (6.2.0)\n",
      "  - Installing numba (0.46.0)\n",
      "  - Installing numexpr (2.7.0)\n",
      "  - Installing pandas (0.25.3)\n",
      "  - Installing patsy (0.5.1)\n",
      "  - Installing scikit-learn (0.22)\n",
      "  - Installing anndata (0.6.22.post1)\n",
      "  - Installing networkx (2.4)\n",
      "  - Installing seaborn (0.9.0)\n",
      "  - Installing statsmodels (0.10.2)\n",
      "  - Installing tables (3.6.1)\n",
      "  - Installing tqdm (4.40.2)\n",
      "  - Installing umap-learn (0.3.10)\n",
      "  - Installing scanpy (1.4.4.post1)\n",
      "Using version ^0.25.3 for pandas\n",
      "\n",
      "Updating dependencies\n",
      "Resolving dependencies...\n",
      "\n",
      "Writing lock file\n",
      "\n",
      "No dependencies to install or update\n",
      "\n"
     ]
    }
   ],
   "source": [
    "!poetry add numpy\n",
    "!poetry add scanpy\n",
    "!poetry add pandas"
   ]
  },
  {
   "cell_type": "code",
   "execution_count": null,
   "metadata": {},
   "outputs": [],
   "source": []
  },
  {
   "cell_type": "code",
   "execution_count": 2,
   "metadata": {},
   "outputs": [
    {
     "name": "stdout",
     "output_type": "stream",
     "text": [
      "Updating dependencies\n",
      "Resolving dependencies...\n",
      "\n",
      "No dependencies to install or update\n",
      "\n"
     ]
    }
   ],
   "source": [
    "!poetry update"
   ]
  },
  {
   "cell_type": "code",
   "execution_count": 3,
   "metadata": {},
   "outputs": [
    {
     "name": "stdout",
     "output_type": "stream",
     "text": [
      "Installing dependencies from lock file\n",
      "\n",
      "No dependencies to install or update\n",
      "\n",
      "  - Installing PoetryTest_package (0.1.0)\n"
     ]
    }
   ],
   "source": [
    "!poetry install"
   ]
  }
 ],
 "metadata": {
  "kernelspec": {
   "display_name": "Python 3",
   "language": "python",
   "name": "python3"
  },
  "language_info": {
   "codemirror_mode": {
    "name": "ipython",
    "version": 3
   },
   "file_extension": ".py",
   "mimetype": "text/x-python",
   "name": "python",
   "nbconvert_exporter": "python",
   "pygments_lexer": "ipython3",
   "version": "3.7.3"
  }
 },
 "nbformat": 4,
 "nbformat_minor": 4
}
