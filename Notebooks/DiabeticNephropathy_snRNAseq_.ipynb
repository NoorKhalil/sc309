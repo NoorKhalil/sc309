{
 "cells": [
  {
   "cell_type": "code",
   "execution_count": 5,
   "metadata": {},
   "outputs": [
    {
     "name": "stderr",
     "output_type": "stream",
     "text": [
      "UsageError: Cell magic `%%R` not found.\n"
     ]
    }
   ],
   "source": [
    "%R \n",
    "suppressPackageStartupMessages(library(Seurat))\n",
    "setwd(\"\")"
   ]
  },
  {
   "cell_type": "code",
   "execution_count": 2,
   "metadata": {},
   "outputs": [
    {
     "ename": "SyntaxError",
     "evalue": "invalid syntax (<ipython-input-2-52c978b404ed>, line 6)",
     "output_type": "error",
     "traceback": [
      "\u001b[1;36m  File \u001b[1;32m\"<ipython-input-2-52c978b404ed>\"\u001b[1;36m, line \u001b[1;32m6\u001b[0m\n\u001b[1;33m    Ctrl1.data <- (Ctrl1$umicount$exon$all)\u001b[0m\n\u001b[1;37m                        ^\u001b[0m\n\u001b[1;31mSyntaxError\u001b[0m\u001b[1;31m:\u001b[0m invalid syntax\n"
     ]
    }
   ],
   "source": [
    "%R\n",
    "Ctrl1 <- readRDS('GSM3823939_control.s1.dgecounts')\n",
    "Ctrl1.data <- (Ctrl1$umicount$exon$all)\n",
    "colnames(Ctrl1.data) = paste0(\"Ctrl1_\", colnames(Ctrl1.data) )\n",
    "Ctrl1.data <- CreateSeuratObject(raw.data = Ctrl1.data, min.cells = 3, min.features = 200, project = \"Ctrl1\")\n",
    "\n",
    "Ctrl2 <- readRDS('GSM3823940_control.s2.dgecounts')\n",
    "Ctrl2.data <- (Ctrl2$umicount$exon$all)\n",
    "colnames(Ctrl2.data) = paste0(\"Ctrl2_\", colnames(Ctrl2.data) )\n",
    "Ctrl2.data <- CreateSeuratObject(raw.data = Ctrl2.data, min.cells = 3, min.features = 200, project = \"Ctrl2\")\n",
    "\n",
    "Ctrl3 <- readRDS('GSM3823941_control.s3.dgecounts')\n",
    "Ctrl3.data <- (Ctrl3$umicount$exon$all)\n",
    "colnames(Ctrl3.data) = paste0(\"Ctrl3_\", colnames(Ctrl3.data) )\n",
    "Ctrl3.data <- CreateSeuratObject(raw.data = Ctrl3.data, min.cells = 3, min.features = 200, project = \"Ctrl3\")\n",
    "\n",
    "Diabetes1 <- readRDS('GSM3823942_diabetes.s1.dgecounts')\n",
    "Diabetes1.data <- (Diabetes1$umicount$exon$all)\n",
    "colnames(Diabetes1.data) = paste0(\"Diabetes1_\", colnames(Diabetes1.data) )\n",
    "Diabetes1.data <- CreateSeuratObject(raw.data = Diabetes1.data, min.cells = 3, min.features = 200, project = \"Diabetes1\")\n",
    "\n",
    "Diabetes2 <- readRDS('GSM3823943_diabetes.s2.dgecounts')\n",
    "Diabetes2.data <- (Diabetes2$umicount$exon$all)\n",
    "colnames(Diabetes2.data) = paste0(\"Diabetes2_\", colnames(Diabetes2.data) )\n",
    "Diabetes2.data <- CreateSeuratObject(raw.data = Diabetes2.data, min.cells = 3, min.features = 200, project = \"Diabetes2\")\n",
    "\n",
    "Diabetes3 <- readRDS('GSM3823944_diabetes.s3.dgecounts')\n",
    "Diabetes3.data <- (Diabetes3$umicount$exon$all)\n",
    "colnames(Diabetes3.data) = paste0(\"Diabetes3_\", colnames(Diabetes3.data) )\n",
    "Diabetes3.data <- CreateSeuratObject(raw.data = Diabetes3.data, min.cells = 3, min.features = 200, project = \"Diabetes3\")\n",
    "\n",
    "AggregateObj <- MergeSeurat(object1 = Ctrl1.data, object2 = Ctrl2.data, add.cell.id1 = \"Ctrl1_\", add.cell.id2 = \"Ctrl2_\")\n",
    "AggregateObj <- MergeSeurat(object1 = AggregateObj, object2 = Ctrl3.data, add.cell.id2 = \"Ctrl3_\")\n",
    "AggregateObj <- MergeSeurat(object1 = AggregateObj, object2 = Diabetes1.data, add.cell.id2 = \"Diabetes1_\")\n",
    "AggregateObj <- MergeSeurat(object1 = AggregateObj, object2 = Diabetes2.data, add.cell.id2 = \"Diabetes2_\")\n",
    "AggregateObj <- MergeSeurat(object1 = AggregateObj, object2 = Diabetes3.data, add.cell.id2 = \"Diabetes3_\")\n",
    "\n",
    "R -o AggregateObj_sce\n",
    "#convert the Seurat object to a SingleCellExperiment object\n",
    "AggregateObj_sce <- as.SingleCellExperiment(AggregateObj_sce)\n",
    "\n",
    "AggregateObj_sce"
   ]
  },
  {
   "cell_type": "code",
   "execution_count": null,
   "metadata": {},
   "outputs": [],
   "source": []
  }
 ],
 "metadata": {
  "kernelspec": {
   "display_name": "Python 3",
   "language": "python",
   "name": "python3"
  },
  "language_info": {
   "codemirror_mode": {
    "name": "ipython",
    "version": 3
   },
   "file_extension": ".py",
   "mimetype": "text/x-python",
   "name": "python",
   "nbconvert_exporter": "python",
   "pygments_lexer": "ipython3",
   "version": "3.7.3"
  }
 },
 "nbformat": 4,
 "nbformat_minor": 4
}
